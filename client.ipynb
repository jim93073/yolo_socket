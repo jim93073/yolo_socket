{
 "cells": [
  {
   "cell_type": "code",
   "execution_count": null,
   "metadata": {},
   "outputs": [
    {
     "name": "stdout",
     "output_type": "stream",
     "text": [
      "10\n",
      "10\n",
      "11\n",
      "20\n",
      "21\n",
      "20\n",
      "21\n",
      "21\n",
      "30\n",
      "30\n",
      "30\n",
      "31\n",
      "31\n",
      "31\n",
      "40\n",
      "40\n",
      "41\n",
      "41\n",
      "41\n",
      "41\n",
      "40\n",
      "00\n",
      "01\n",
      "10\n",
      "11\n",
      "20\n",
      "20\n",
      "20\n",
      "21\n",
      "41\n"
     ]
    }
   ],
   "source": [
    "from websocket import create_connection\n",
    "\n",
    "def client_handle():\n",
    "    ws = create_connection('ws://127.0.0.1:5000/echo')\n",
    "    while ws.connected:        \n",
    "#             ws.send('RECEIVED') \n",
    "        result = ws.recv()  \n",
    "        print(result)            \n",
    "            \n",
    "        # ws.close()\n",
    "    print(\"OUT\")\n",
    "if __name__ == \"__main__\":\n",
    "    client_handle()"
   ]
  },
  {
   "cell_type": "code",
   "execution_count": null,
   "metadata": {},
   "outputs": [],
   "source": []
  },
  {
   "cell_type": "code",
   "execution_count": null,
   "metadata": {},
   "outputs": [],
   "source": []
  },
  {
   "cell_type": "code",
   "execution_count": null,
   "metadata": {},
   "outputs": [],
   "source": []
  }
 ],
 "metadata": {
  "kernelspec": {
   "display_name": "Python 3",
   "language": "python",
   "name": "python3"
  },
  "language_info": {
   "codemirror_mode": {
    "name": "ipython",
    "version": 3
   },
   "file_extension": ".py",
   "mimetype": "text/x-python",
   "name": "python",
   "nbconvert_exporter": "python",
   "pygments_lexer": "ipython3",
   "version": "3.7.7"
  }
 },
 "nbformat": 4,
 "nbformat_minor": 4
}
