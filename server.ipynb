{
 "cells": [
  {
   "cell_type": "code",
   "execution_count": 8,
   "metadata": {},
   "outputs": [
    {
     "name": "stdout",
     "output_type": "stream",
     "text": [
      "web server start ... \n"
     ]
    },
    {
     "name": "stderr",
     "output_type": "stream",
     "text": [
      "127.0.0.1 - - [21/Aug/2020 11:59:36] \"\u001b[37mGET /status/auto HTTP/1.1\u001b[0m\" 200 -\n"
     ]
    },
    {
     "name": "stdout",
     "output_type": "stream",
     "text": [
      "Rescived auto\n",
      "Change: 0\n",
      "Status:0\n"
     ]
    },
    {
     "name": "stderr",
     "output_type": "stream",
     "text": [
      "127.0.0.1 - - [21/Aug/2020 11:59:57] \"\u001b[37mGET /status/manual HTTP/1.1\u001b[0m\" 200 -\n"
     ]
    },
    {
     "name": "stdout",
     "output_type": "stream",
     "text": [
      "Rescived manual\n",
      "Change: 0\n"
     ]
    },
    {
     "name": "stderr",
     "output_type": "stream",
     "text": [
      "----------------------------------------\n",
      "Exception happened during processing of request from ('127.0.0.1', 56048)\n",
      "Traceback (most recent call last):\n",
      "  File \"C:\\Users\\User\\anaconda3\\envs\\tf2\\lib\\socketserver.py\", line 650, in process_request_thread\n",
      "    self.finish_request(request, client_address)\n",
      "  File \"C:\\Users\\User\\anaconda3\\envs\\tf2\\lib\\socketserver.py\", line 360, in finish_request\n",
      "    self.RequestHandlerClass(request, client_address, self)\n",
      "  File \"C:\\Users\\User\\anaconda3\\envs\\tf2\\lib\\site-packages\\flask_threaded_sockets\\serving.py\", line 24, in __init__\n",
      "    super().__init__(request, client_address, server)\n",
      "  File \"C:\\Users\\User\\anaconda3\\envs\\tf2\\lib\\socketserver.py\", line 720, in __init__\n",
      "    self.handle()\n",
      "  File \"C:\\Users\\User\\anaconda3\\envs\\tf2\\lib\\site-packages\\werkzeug\\serving.py\", line 345, in handle\n",
      "    BaseHTTPRequestHandler.handle(self)\n",
      "  File \"C:\\Users\\User\\anaconda3\\envs\\tf2\\lib\\http\\server.py\", line 426, in handle\n",
      "    self.handle_one_request()\n",
      "  File \"C:\\Users\\User\\anaconda3\\envs\\tf2\\lib\\site-packages\\werkzeug\\serving.py\", line 379, in handle_one_request\n",
      "    return self.run_wsgi()\n",
      "  File \"C:\\Users\\User\\anaconda3\\envs\\tf2\\lib\\site-packages\\flask_threaded_sockets\\serving.py\", line 61, in run_wsgi\n",
      "    self.run_websocket()\n",
      "  File \"C:\\Users\\User\\anaconda3\\envs\\tf2\\lib\\site-packages\\flask_threaded_sockets\\serving.py\", line 85, in run_websocket\n",
      "    self.server.app(self.environ, (lambda s, h, e=None: []))\n",
      "  File \"C:\\Users\\User\\anaconda3\\envs\\tf2\\lib\\site-packages\\flask\\app.py\", line 1997, in __call__\n",
      "    return self.wsgi_app(environ, start_response)\n",
      "  File \"C:\\Users\\User\\anaconda3\\envs\\tf2\\lib\\site-packages\\flask_threaded_sockets\\flask.py\", line 153, in wsgi_app\n",
      "    handler(ws, **values)\n",
      "  File \"<ipython-input-7-e07be03a586b>\", line 123, in echo_socket\n",
      "    ws.send(str(change[i])+str(Status))\n",
      "  File \"C:\\Users\\User\\anaconda3\\envs\\tf2\\lib\\site-packages\\flask_threaded_sockets\\websocket.py\", line 400, in send\n",
      "    raise WebSocketError(MSG_SOCKET_DEAD) from None\n",
      "flask_threaded_sockets.exceptions.WebSocketError: Socket is dead\n",
      "----------------------------------------\n",
      "127.0.0.1 - - [21/Aug/2020 11:59:59] \"\u001b[1mGET /echo HTTP/1.1\u001b[0m\" 101 -\n",
      "127.0.0.1 - - [21/Aug/2020 12:00:06] \"\u001b[37mGET /motor1/pos HTTP/1.1\u001b[0m\" 200 -\n"
     ]
    },
    {
     "name": "stdout",
     "output_type": "stream",
     "text": [
      "Rescived motor1_pos\n",
      "Change: 1\n"
     ]
    },
    {
     "name": "stderr",
     "output_type": "stream",
     "text": [
      "127.0.0.1 - - [21/Aug/2020 12:00:08] \"\u001b[37mGET /motor1/pos HTTP/1.1\u001b[0m\" 200 -\n"
     ]
    },
    {
     "name": "stdout",
     "output_type": "stream",
     "text": [
      "Rescived motor1_pos\n",
      "Change: 1\n"
     ]
    },
    {
     "name": "stderr",
     "output_type": "stream",
     "text": [
      "127.0.0.1 - - [21/Aug/2020 12:00:10] \"\u001b[37mGET /motor1/neg HTTP/1.1\u001b[0m\" 200 -\n"
     ]
    },
    {
     "name": "stdout",
     "output_type": "stream",
     "text": [
      "Rescived motor1_pos\n",
      "Change: 1\n"
     ]
    },
    {
     "name": "stderr",
     "output_type": "stream",
     "text": [
      "127.0.0.1 - - [21/Aug/2020 12:00:11] \"\u001b[37mGET /motor2/pos HTTP/1.1\u001b[0m\" 200 -\n"
     ]
    },
    {
     "name": "stdout",
     "output_type": "stream",
     "text": [
      "Rescived motor2_pos\n",
      "Change: 2\n"
     ]
    },
    {
     "name": "stderr",
     "output_type": "stream",
     "text": [
      "127.0.0.1 - - [21/Aug/2020 12:00:14] \"\u001b[37mGET /motor2/neg HTTP/1.1\u001b[0m\" 200 -\n"
     ]
    },
    {
     "name": "stdout",
     "output_type": "stream",
     "text": [
      "Rescived motor2_pos\n",
      "Change: 2\n"
     ]
    },
    {
     "name": "stderr",
     "output_type": "stream",
     "text": [
      "127.0.0.1 - - [21/Aug/2020 12:00:15] \"\u001b[37mGET /motor3/pos HTTP/1.1\u001b[0m\" 200 -\n"
     ]
    },
    {
     "name": "stdout",
     "output_type": "stream",
     "text": [
      "Rescived motor3_pos\n",
      "Change: 3\n"
     ]
    },
    {
     "name": "stderr",
     "output_type": "stream",
     "text": [
      "----------------------------------------\n",
      "Exception happened during processing of request from ('127.0.0.1', 55971)\n",
      "Traceback (most recent call last):\n",
      "  File \"C:\\Users\\User\\anaconda3\\envs\\tf2\\lib\\socketserver.py\", line 650, in process_request_thread\n",
      "    self.finish_request(request, client_address)\n",
      "  File \"C:\\Users\\User\\anaconda3\\envs\\tf2\\lib\\socketserver.py\", line 360, in finish_request\n",
      "    self.RequestHandlerClass(request, client_address, self)\n",
      "  File \"C:\\Users\\User\\anaconda3\\envs\\tf2\\lib\\site-packages\\flask_threaded_sockets\\serving.py\", line 24, in __init__\n",
      "    super().__init__(request, client_address, server)\n",
      "  File \"C:\\Users\\User\\anaconda3\\envs\\tf2\\lib\\socketserver.py\", line 720, in __init__\n",
      "    self.handle()\n",
      "  File \"C:\\Users\\User\\anaconda3\\envs\\tf2\\lib\\site-packages\\werkzeug\\serving.py\", line 345, in handle\n",
      "    BaseHTTPRequestHandler.handle(self)\n",
      "  File \"C:\\Users\\User\\anaconda3\\envs\\tf2\\lib\\http\\server.py\", line 426, in handle\n",
      "    self.handle_one_request()\n",
      "  File \"C:\\Users\\User\\anaconda3\\envs\\tf2\\lib\\site-packages\\werkzeug\\serving.py\", line 379, in handle_one_request\n",
      "    return self.run_wsgi()\n",
      "  File \"C:\\Users\\User\\anaconda3\\envs\\tf2\\lib\\site-packages\\flask_threaded_sockets\\serving.py\", line 61, in run_wsgi\n",
      "    self.run_websocket()\n",
      "  File \"C:\\Users\\User\\anaconda3\\envs\\tf2\\lib\\site-packages\\flask_threaded_sockets\\serving.py\", line 85, in run_websocket\n",
      "    self.server.app(self.environ, (lambda s, h, e=None: []))\n",
      "  File \"C:\\Users\\User\\anaconda3\\envs\\tf2\\lib\\site-packages\\flask\\app.py\", line 1997, in __call__\n",
      "    return self.wsgi_app(environ, start_response)\n",
      "  File \"C:\\Users\\User\\anaconda3\\envs\\tf2\\lib\\site-packages\\flask_threaded_sockets\\flask.py\", line 153, in wsgi_app\n",
      "    handler(ws, **values)\n",
      "  File \"<ipython-input-6-ed66cdbe227c>\", line 130, in echo_socket\n",
      "    ws.send(str(motor3))\n",
      "  File \"C:\\Users\\User\\anaconda3\\envs\\tf2\\lib\\site-packages\\flask_threaded_sockets\\websocket.py\", line 400, in send\n",
      "    raise WebSocketError(MSG_SOCKET_DEAD) from None\n",
      "flask_threaded_sockets.exceptions.WebSocketError: Socket is dead\n",
      "----------------------------------------\n",
      "127.0.0.1 - - [21/Aug/2020 12:00:30] \"\u001b[37mGET /motor2/pos HTTP/1.1\u001b[0m\" 200 -\n"
     ]
    },
    {
     "name": "stdout",
     "output_type": "stream",
     "text": [
      "Rescived motor2_pos\n",
      "Change: 2\n"
     ]
    },
    {
     "name": "stderr",
     "output_type": "stream",
     "text": [
      "127.0.0.1 - - [21/Aug/2020 12:00:32] \"\u001b[37mGET /motor2/neg HTTP/1.1\u001b[0m\" 200 -\n"
     ]
    },
    {
     "name": "stdout",
     "output_type": "stream",
     "text": [
      "Rescived motor2_pos\n",
      "Change: 2\n"
     ]
    },
    {
     "name": "stderr",
     "output_type": "stream",
     "text": [
      "127.0.0.1 - - [21/Aug/2020 12:00:37] \"\u001b[37mGET /motor2/neg HTTP/1.1\u001b[0m\" 200 -\n"
     ]
    },
    {
     "name": "stdout",
     "output_type": "stream",
     "text": [
      "Rescived motor2_pos\n",
      "Change: 2\n"
     ]
    },
    {
     "name": "stderr",
     "output_type": "stream",
     "text": [
      "127.0.0.1 - - [21/Aug/2020 12:00:54] \"\u001b[37mGET /motor3/pos HTTP/1.1\u001b[0m\" 200 -\n"
     ]
    },
    {
     "name": "stdout",
     "output_type": "stream",
     "text": [
      "Rescived motor3_pos\n",
      "Change: 3\n"
     ]
    },
    {
     "name": "stderr",
     "output_type": "stream",
     "text": [
      "127.0.0.1 - - [21/Aug/2020 12:00:56] \"\u001b[37mGET /motor3/pos HTTP/1.1\u001b[0m\" 200 -\n"
     ]
    },
    {
     "name": "stdout",
     "output_type": "stream",
     "text": [
      "Rescived motor3_pos\n",
      "Change: 3\n"
     ]
    },
    {
     "name": "stderr",
     "output_type": "stream",
     "text": [
      "127.0.0.1 - - [21/Aug/2020 12:00:57] \"\u001b[37mGET /motor3/pos HTTP/1.1\u001b[0m\" 200 -\n"
     ]
    },
    {
     "name": "stdout",
     "output_type": "stream",
     "text": [
      "Rescived motor3_pos\n",
      "Change: 3\n"
     ]
    },
    {
     "name": "stderr",
     "output_type": "stream",
     "text": [
      "127.0.0.1 - - [21/Aug/2020 12:00:58] \"\u001b[37mGET /motor3/neg HTTP/1.1\u001b[0m\" 200 -\n"
     ]
    },
    {
     "name": "stdout",
     "output_type": "stream",
     "text": [
      "Rescived motor3_pos\n",
      "Change: 3\n"
     ]
    },
    {
     "name": "stderr",
     "output_type": "stream",
     "text": [
      "127.0.0.1 - - [21/Aug/2020 12:00:59] \"\u001b[37mGET /motor3/neg HTTP/1.1\u001b[0m\" 200 -\n"
     ]
    },
    {
     "name": "stdout",
     "output_type": "stream",
     "text": [
      "Rescived motor3_pos\n"
     ]
    },
    {
     "name": "stderr",
     "output_type": "stream",
     "text": [
      "127.0.0.1 - - [21/Aug/2020 12:00:59] \"\u001b[37mGET /motor3/neg HTTP/1.1\u001b[0m\" 200 -\n"
     ]
    },
    {
     "name": "stdout",
     "output_type": "stream",
     "text": [
      "Change: 3\n",
      "Rescived motor3_pos\n",
      "Change: 3\n"
     ]
    },
    {
     "name": "stderr",
     "output_type": "stream",
     "text": [
      "127.0.0.1 - - [21/Aug/2020 12:01:02] \"\u001b[37mGET /motor4/pos HTTP/1.1\u001b[0m\" 200 -\n"
     ]
    },
    {
     "name": "stdout",
     "output_type": "stream",
     "text": [
      "Rescived motor4_pos\n",
      "Change: 4\n"
     ]
    },
    {
     "name": "stderr",
     "output_type": "stream",
     "text": [
      "127.0.0.1 - - [21/Aug/2020 12:01:03] \"\u001b[37mGET /motor4/pos HTTP/1.1\u001b[0m\" 200 -\n"
     ]
    },
    {
     "name": "stdout",
     "output_type": "stream",
     "text": [
      "Rescived motor4_pos\n",
      "Change: 4\n"
     ]
    },
    {
     "name": "stderr",
     "output_type": "stream",
     "text": [
      "127.0.0.1 - - [21/Aug/2020 12:01:05] \"\u001b[37mGET /motor4/neg HTTP/1.1\u001b[0m\" 200 -\n"
     ]
    },
    {
     "name": "stdout",
     "output_type": "stream",
     "text": [
      "Rescived motor4_pos\n",
      "Change: 4\n"
     ]
    },
    {
     "name": "stderr",
     "output_type": "stream",
     "text": [
      "127.0.0.1 - - [21/Aug/2020 12:01:06] \"\u001b[37mGET /motor4/neg HTTP/1.1\u001b[0m\" 200 -\n"
     ]
    },
    {
     "name": "stdout",
     "output_type": "stream",
     "text": [
      "Rescived motor4_pos\n",
      "Change: 4\n"
     ]
    },
    {
     "name": "stderr",
     "output_type": "stream",
     "text": [
      "127.0.0.1 - - [21/Aug/2020 12:01:06] \"\u001b[37mGET /motor4/neg HTTP/1.1\u001b[0m\" 200 -\n"
     ]
    },
    {
     "name": "stdout",
     "output_type": "stream",
     "text": [
      "Rescived motor4_pos\n",
      "Change: 4\n"
     ]
    },
    {
     "name": "stderr",
     "output_type": "stream",
     "text": [
      "127.0.0.1 - - [21/Aug/2020 12:04:36] \"\u001b[37mGET /motor4/neg HTTP/1.1\u001b[0m\" 200 -\n"
     ]
    },
    {
     "name": "stdout",
     "output_type": "stream",
     "text": [
      "Rescived motor4_pos\n",
      "Change: 4\n"
     ]
    },
    {
     "name": "stderr",
     "output_type": "stream",
     "text": [
      "127.0.0.1 - - [21/Aug/2020 12:04:38] \"\u001b[37mGET /motor4/pos HTTP/1.1\u001b[0m\" 200 -\n"
     ]
    },
    {
     "name": "stdout",
     "output_type": "stream",
     "text": [
      "Rescived motor4_pos\n",
      "Change: 4\n"
     ]
    },
    {
     "name": "stderr",
     "output_type": "stream",
     "text": [
      "127.0.0.1 - - [21/Aug/2020 12:06:04] \"\u001b[37mGET /status/auto HTTP/1.1\u001b[0m\" 200 -\n"
     ]
    },
    {
     "name": "stdout",
     "output_type": "stream",
     "text": [
      "Rescived auto\n",
      "Change: 0\n",
      "Status:0\n"
     ]
    },
    {
     "name": "stderr",
     "output_type": "stream",
     "text": [
      "127.0.0.1 - - [21/Aug/2020 12:06:12] \"\u001b[37mGET /status/manual HTTP/1.1\u001b[0m\" 200 -\n"
     ]
    },
    {
     "name": "stdout",
     "output_type": "stream",
     "text": [
      "Rescived manual\n",
      "Change: 0\n",
      "Status:1\n"
     ]
    },
    {
     "name": "stderr",
     "output_type": "stream",
     "text": [
      "127.0.0.1 - - [21/Aug/2020 12:06:14] \"\u001b[37mGET /motor1/pos HTTP/1.1\u001b[0m\" 200 -\n"
     ]
    },
    {
     "name": "stdout",
     "output_type": "stream",
     "text": [
      "Rescived motor1_pos\n",
      "Change: 1\n"
     ]
    },
    {
     "name": "stderr",
     "output_type": "stream",
     "text": [
      "127.0.0.1 - - [21/Aug/2020 12:06:17] \"\u001b[37mGET /motor1/neg HTTP/1.1\u001b[0m\" 200 -\n"
     ]
    },
    {
     "name": "stdout",
     "output_type": "stream",
     "text": [
      "Rescived motor1_pos\n",
      "Change: 1\n"
     ]
    },
    {
     "name": "stderr",
     "output_type": "stream",
     "text": [
      "127.0.0.1 - - [21/Aug/2020 12:06:19] \"\u001b[37mGET /motor2/pos HTTP/1.1\u001b[0m\" 200 -\n"
     ]
    },
    {
     "name": "stdout",
     "output_type": "stream",
     "text": [
      "Rescived motor2_pos\n",
      "Change: 2\n"
     ]
    },
    {
     "name": "stderr",
     "output_type": "stream",
     "text": [
      "127.0.0.1 - - [21/Aug/2020 12:06:20] \"\u001b[37mGET /motor2/pos HTTP/1.1\u001b[0m\" 200 -\n"
     ]
    },
    {
     "name": "stdout",
     "output_type": "stream",
     "text": [
      "Rescived motor2_pos\n",
      "Change: 2\n"
     ]
    },
    {
     "name": "stderr",
     "output_type": "stream",
     "text": [
      "127.0.0.1 - - [21/Aug/2020 12:06:21] \"\u001b[37mGET /motor2/pos HTTP/1.1\u001b[0m\" 200 -\n"
     ]
    },
    {
     "name": "stdout",
     "output_type": "stream",
     "text": [
      "Rescived motor2_pos\n",
      "Change: 2\n"
     ]
    },
    {
     "name": "stderr",
     "output_type": "stream",
     "text": [
      "127.0.0.1 - - [21/Aug/2020 12:06:23] \"\u001b[37mGET /motor2/neg HTTP/1.1\u001b[0m\" 200 -\n"
     ]
    },
    {
     "name": "stdout",
     "output_type": "stream",
     "text": [
      "Rescived motor2_pos\n",
      "Change: 2\n"
     ]
    },
    {
     "name": "stderr",
     "output_type": "stream",
     "text": [
      "127.0.0.1 - - [21/Aug/2020 12:06:43] \"\u001b[37mGET /motor4/neg HTTP/1.1\u001b[0m\" 200 -\n"
     ]
    },
    {
     "name": "stdout",
     "output_type": "stream",
     "text": [
      "Rescived motor4_pos\n",
      "Change: 4\n"
     ]
    }
   ],
   "source": [
    "#pip install websocket-client flask-sockets flask gevent flask_threaded_sockets opencv-python \n",
    "from flask import Flask,render_template, Response \n",
    "from flask_sockets import Sockets\n",
    "import time\n",
    "from gevent import pywsgi\n",
    "from geventwebsocket.handler import WebSocketHandler\n",
    "from flask_threaded_sockets import Sockets, ThreadedWebsocketServer\n",
    "import cv2\n",
    "\n",
    "app = Flask(__name__)\n",
    "sockets = Sockets(app)\n",
    "\n",
    "# 0:Status      \n",
    "# 1:motor1\n",
    "# 2:motor2\n",
    "# 3:motor3\n",
    "\n",
    "change = [False for i in range(5)] \n",
    "message = \"\"\n",
    "Status = 0 # 0:auto 1:manual\n",
    "motor1 = 0 # 0:正轉 1 反轉\n",
    "motor2 = 0\n",
    "motor3 = 0\n",
    "\n",
    "# http 路由，访问url是： http://localhost:5000/\n",
    "@app.route('/')\n",
    "def hello():\n",
    "    return render_template('index.html')\n",
    "\n",
    "@app.route('/status/auto')\n",
    "def auto():    \n",
    "    print(\"Rescived auto\")\n",
    "    change[0] = True\n",
    "    global Status\n",
    "    Status = 0\n",
    "    return render_template('index.html', status=\"Auto\")\n",
    "\n",
    "@app.route('/status/manual')\n",
    "def manual():    \n",
    "    print(\"Rescived manual\")\n",
    "    change[0] = True\n",
    "    global Status \n",
    "    Status = 1\n",
    "    return render_template('index.html', status=\"Manual\")\n",
    "\n",
    "@app.route('/motor1/pos')\n",
    "def motor1_pos():    \n",
    "    print(\"Rescived motor1_pos\")\n",
    "    change[1] = True\n",
    "    global motor1 \n",
    "    motor1 = 0\n",
    "    return render_template('index.html')\n",
    "\n",
    "@app.route('/motor1/neg')\n",
    "def motor1_neg():    \n",
    "    print(\"Rescived motor1_pos\")\n",
    "    change[1] = True\n",
    "    global motor1 \n",
    "    motor1 = 1\n",
    "    return render_template('index.html')\n",
    "\n",
    "@app.route('/motor2/pos')\n",
    "def motor2_pos():    \n",
    "    print(\"Rescived motor2_pos\")\n",
    "    change[2] = True\n",
    "    global motor2 \n",
    "    motor2 = 0\n",
    "    return render_template('index.html')\n",
    "\n",
    "@app.route('/motor2/neg')\n",
    "def motor2_neg():    \n",
    "    print(\"Rescived motor2_pos\")\n",
    "    change[2] = True\n",
    "    global motor2 \n",
    "    motor2 = 1\n",
    "    return render_template('index.html')\n",
    "\n",
    "@app.route('/motor3/pos')\n",
    "def motor3_pos():    \n",
    "    print(\"Rescived motor3_pos\")\n",
    "    change[3] = True\n",
    "    global motor3 \n",
    "    motor3 = 0\n",
    "    return render_template('index.html')\n",
    "\n",
    "@app.route('/motor3/neg')\n",
    "def motor3_neg():    \n",
    "    print(\"Rescived motor3_pos\")\n",
    "    change[3] = True\n",
    "    global motor3 \n",
    "    motor3 = 1\n",
    "    return render_template('index.html')\n",
    "\n",
    "@app.route('/motor4/pos')\n",
    "def motor4_pos():    \n",
    "    print(\"Rescived motor4_pos\")\n",
    "    change[4] = True\n",
    "    global motor4 \n",
    "    motor4 = 0\n",
    "    return render_template('index.html')\n",
    "\n",
    "@app.route('/motor4/neg')\n",
    "def motor4_neg():    \n",
    "    print(\"Rescived motor4_pos\")\n",
    "    change[4] = True\n",
    "    global motor4\n",
    "    motor4 = 1\n",
    "    return render_template('index.html')\n",
    "\n",
    "\n",
    "\n",
    "@sockets.route('/echo')\n",
    "def echo_socket(ws):\n",
    "    while not ws.closed:\n",
    "        time.sleep(1)       \n",
    "#         print(message)\n",
    "        for i in range(5):\n",
    "            if change[i] == True:\n",
    "                change[i] = False #initial  \n",
    "                print(\"Change: \"+str(i))\n",
    "                \n",
    "#                 message = ws.receive()                \n",
    "                if i == 0:       \n",
    "                    ws.send(str(i)+str(Status))\n",
    "                    print(\"Status:\"+str(Status))\n",
    "                if i == 1:      \n",
    "                    ws.send(str(i)+str(motor1))\n",
    "                if i == 2:   \n",
    "                    ws.send(str(i)+str(motor2))\n",
    "                if i == 3:               \n",
    "                    ws.send(str(i)+str(motor3))\n",
    "                if i == 4:               \n",
    "                    ws.send(str(i)+str(motor4))\n",
    "                \n",
    "    print(\"OUT\")\n",
    "\n",
    "                \n",
    "\n",
    "\n",
    "\n",
    "\n",
    "def gen():\n",
    "    video = cv2.VideoCapture(0)\n",
    "    \n",
    "    \n",
    "    while True:\n",
    "        success, image = video.read()\n",
    "        ret, jpeg = cv2.imencode('.jpg', image)\n",
    "        frame = jpeg.tobytes()\n",
    "        yield (b'--frame\\r\\n'\n",
    "               b'Content-Type: image/jpeg\\r\\n\\r\\n' + frame + b'\\r\\n\\r\\n')\n",
    "\n",
    "@app.route('/video_feed')\n",
    "def video_feed():\n",
    "    return Response(gen(),\n",
    "                    mimetype='multipart/x-mixed-replace; boundary=frame')\n",
    "\n",
    "    \n",
    "    \n",
    "if __name__ == \"__main__\":    \n",
    "#     server = pywsgi.WSGIServer(('127.0.0.1', 5000), app, handler_class=WebSocketHandler)\n",
    "    server = ThreadedWebsocketServer(\"127.0.0.1\", 5000, app)\n",
    "    print(\"web server start ... \")\n",
    "    server.serve_forever()"
   ]
  },
  {
   "cell_type": "code",
   "execution_count": null,
   "metadata": {},
   "outputs": [],
   "source": []
  },
  {
   "cell_type": "code",
   "execution_count": null,
   "metadata": {},
   "outputs": [],
   "source": []
  }
 ],
 "metadata": {
  "kernelspec": {
   "display_name": "Python 3",
   "language": "python",
   "name": "python3"
  },
  "language_info": {
   "codemirror_mode": {
    "name": "ipython",
    "version": 3
   },
   "file_extension": ".py",
   "mimetype": "text/x-python",
   "name": "python",
   "nbconvert_exporter": "python",
   "pygments_lexer": "ipython3",
   "version": "3.7.7"
  }
 },
 "nbformat": 4,
 "nbformat_minor": 4
}
